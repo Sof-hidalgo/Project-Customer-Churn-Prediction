{
  "cells": [
    {
      "cell_type": "markdown",
      "metadata": {
        "id": "FJkldEStriJG"
      },
      "source": [
        "# Informe Final del Proyecto: Predicción de Cancelación de Clientes en Interconnect\n",
        "\n",
        "## Introducción\n",
        "\n",
        "El objetivo de este proyecto fue desarrollar un modelo predictivo capaz de identificar qué clientes de Interconnect tenían mayor probabilidad de cancelar su servicio. Con esta información, la empresa podría implementar estrategias para retener a estos clientes mediante promociones y mejoras en el servicio. Para lograr esto, se realizó un análisis exhaustivo de los datos, incluyendo preprocesamiento, exploración, selección de modelos y ajuste de hiperparámetros.\n",
        "\n",
        "## Pasos Realizados y Omitidos\n",
        "\n",
        "A lo largo del proyecto, se siguió un plan estructurado para abordar el problema de la manera más eficiente posible. Se realizaron los siguientes pasos:\n",
        "\n",
        "- **Carga y exploración de datos**: Se importaron y analizaron los datos provenientes de distintas fuentes (contratos, información personal, servicios de internet y telefonía).\n",
        "\n",
        "- **Preprocesamiento de datos**: Se manejaron valores nulos, se convirtieron variables categóricas en numéricas y se escalaron variables numéricas.\n",
        "\n",
        "- **Análisis exploratorio de datos (EDA)**: Se analizaron correlaciones y se identificaron patrones en la tasa de cancelación.\n",
        "\n",
        "- **Balanceo de clases**: Se aplicó SMOTE para lidiar con el desequilibrio en la variable objetivo.\n",
        "\n",
        "- **Entrenamiento de modelos**: Se probaron Decision Tree, Random Forest, Logistic Regression y LightGBM.\n",
        "\n",
        "- **Optimización de hiperparámetros**: Se realizaron ajustes para evitar sobreajuste y mejorar el rendimiento de los modelos.\n",
        "\n",
        "- **Evaluación en el conjunto de prueba**: Se seleccionó el mejor modelo y se probó en el conjunto de test.\n",
        "\n",
        "En cuanto a los pasos omitidos, no se realizó una optimización más avanzada con técnicas como búsqueda en grid o bayesiana debido a limitaciones de tiempo y recursos computacionales. Además, no se probó un enfoque basado en redes neuronales, ya que los modelos tradicionales demostraron ser efectivos.\n",
        "\n",
        "## Dificultades y Soluciones\n",
        "\n",
        "Durante el desarrollo del proyecto, se enfrentaron varios desafíos:\n",
        "\n",
        "- **Sobreajuste en algunos modelos**: Inicialmente, modelos como Decision Tree y Random Forest tendían a aprender demasiado bien los datos de entrenamiento, lo que reducía su capacidad de generalizar. Se resolvió ajustando max_depth, min_samples_leaf y utilizando técnicas de regularización.\n",
        "\n",
        "- **Optimización de hiperparámetros en LightGBM**: Fue especialmente desafiante encontrar los valores óptimos para n_estimators, learning_rate y max_depth. Se probó con diferentes combinaciones hasta lograr un modelo bien ajustado.\n",
        "\n",
        "- **Imputación de valores nulos**: Algunas columnas tenían valores ausentes, lo que podría haber afectado el rendimiento del modelo. Se optó por rellenarlos con la media o con un valor indicativo de \"No servicio\".\n",
        "\n",
        "- **Desequilibrio en la variable objetivo**: El dataset estaba desbalanceado, con más clientes que permanecían en la empresa que los que cancelaban. Se aplicó SMOTE para equilibrar la distribución y mejorar el entrenamiento de los modelos.\n",
        "\n",
        "## Pasos Clave para Resolver la Tarea\n",
        "\n",
        "- **Identificación de las variables más relevantes**: Se encontró que el tipo de contrato y el monto de los cargos mensuales tenían una fuerte relación con la cancelación del servicio.\n",
        "\n",
        "- **Manejo del desequilibrio de clases**: El balanceo de clases fue fundamental para mejorar el rendimiento de los modelos y evitar que predijeran solo la clase mayoritaria.\n",
        "\n",
        "- **Optimización de hiperparámetros**: Se ajustaron los modelos mediante pruebas iterativas para mejorar el F1-score sin caer en sobreajuste.\n",
        "\n",
        "- **Selección del mejor modelo**: Se compararon los resultados de cada modelo y se eligió aquel que mostró el mejor desempeño en datos de prueba.\n",
        "\n",
        "## Modelo Final y Calidad del Resultado\n",
        "\n",
        "Tras evaluar los diferentes modelos, Logistic Regression fue seleccionado como el modelo final. Se destacó por su equilibrio entre precisión y generalización, logrando un F1-score de 0.8292 y un AUC-ROC de 0.9505 en el conjunto de prueba. Estos resultados indican que el modelo tiene una alta capacidad para diferenciar entre clientes que cancelarán y los que permanecerán.\n",
        "\n",
        "## Conclusión\n",
        "\n",
        "Este proyecto permitió desarrollar un modelo predictivo útil para Interconnect, con el potencial de mejorar sus estrategias de retención de clientes. A través de un análisis exhaustivo de los datos, la optimización de modelos y la validación adecuada, se logró obtener un resultado sólido y confiable.\n",
        "\n",
        "El proceso no estuvo exento de dificultades, especialmente en la selección de hiperparámetros y en la mitigación del sobreajuste. Sin embargo, con ajustes iterativos y técnicas de balanceo, se logró un modelo final estable y efectivo."
      ]
    }
  ],
  "metadata": {
    "colab": {
      "provenance": []
    },
    "kernelspec": {
      "display_name": "Python 3 (ipykernel)",
      "language": "python",
      "name": "python3"
    },
    "language_info": {
      "codemirror_mode": {
        "name": "ipython",
        "version": 3
      },
      "file_extension": ".py",
      "mimetype": "text/x-python",
      "name": "python",
      "nbconvert_exporter": "python",
      "pygments_lexer": "ipython3",
      "version": "3.9.19"
    },
    "toc": {
      "base_numbering": 1,
      "nav_menu": {},
      "number_sections": true,
      "sideBar": true,
      "skip_h1_title": true,
      "title_cell": "Table of Contents",
      "title_sidebar": "Contents",
      "toc_cell": false,
      "toc_position": {},
      "toc_section_display": true,
      "toc_window_display": false
    }
  },
  "nbformat": 4,
  "nbformat_minor": 0
}